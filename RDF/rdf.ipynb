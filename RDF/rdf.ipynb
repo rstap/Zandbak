{
 "cells": [
  {
   "cell_type": "code",
   "execution_count": 9,
   "metadata": {},
   "outputs": [],
   "source": [
    "import rdflib"
   ]
  },
  {
   "cell_type": "code",
   "execution_count": 10,
   "metadata": {},
   "outputs": [],
   "source": [
    "#initialize a graph\n",
    "g = rdflib.Graph()\n"
   ]
  },
  {
   "cell_type": "code",
   "execution_count": 11,
   "metadata": {},
   "outputs": [
    {
     "data": {
      "text/plain": [
       "<Graph identifier=Na280016c7070418ab3460ee637ad1977 (<class 'rdflib.graph.Graph'>)>"
      ]
     },
     "execution_count": 11,
     "metadata": {},
     "output_type": "execute_result"
    }
   ],
   "source": [
    "#Parse in an RDF file graph the web\n",
    "g.parse('http://dbpedia.org/resource/Python_(programming_language)')"
   ]
  },
  {
   "cell_type": "code",
   "execution_count": 12,
   "metadata": {},
   "outputs": [
    {
     "name": "stdout",
     "output_type": "stream",
     "text": [
      "789\n"
     ]
    }
   ],
   "source": [
    "print(len(g))"
   ]
  },
  {
   "cell_type": "code",
   "execution_count": 16,
   "metadata": {},
   "outputs": [
    {
     "data": {
      "text/plain": [
       "<Graph identifier=N5fe54dcf50f3478a8cb22aa8eddff6bf (<class 'rdflib.graph.Graph'>)>"
      ]
     },
     "execution_count": 16,
     "metadata": {},
     "output_type": "execute_result"
    }
   ],
   "source": [
    "#Parse in an RDF file from the file\n",
    "h = rdflib.Graph()\n",
    "format_ = rdflib.util.guess_format('example.xml')\n",
    "h.parse('example.xml', format=format_)"
   ]
  },
  {
   "cell_type": "code",
   "execution_count": 23,
   "metadata": {},
   "outputs": [
    {
     "name": "stdout",
     "output_type": "stream",
     "text": [
      "Graph h has 2 facts\n",
      "@prefix ex: <httlp://example.org> .\n",
      "\n",
      "<http://example.org/Subject1> ex:predicate1 \"object1\"@en .\n",
      "\n",
      "<http://example.org/Subject2> ex:predicate2 \"object2\"@en .\n",
      "\n",
      "\n"
     ]
    }
   ],
   "source": [
    "print(f'Graph h has {len(h)} facts')\n",
    "print(h.serialize())"
   ]
  },
  {
   "cell_type": "code",
   "execution_count": 24,
   "metadata": {},
   "outputs": [
    {
     "name": "stdout",
     "output_type": "stream",
     "text": [
      "(rdflib.term.URIRef('http://example.org/Subject2'), rdflib.term.URIRef('httlp://example.orgpredicate2'), rdflib.term.Literal('object2', lang='en'))\n",
      "(rdflib.term.URIRef('http://example.org/Subject1'), rdflib.term.URIRef('httlp://example.orgpredicate1'), rdflib.term.Literal('object1', lang='en'))\n"
     ]
    }
   ],
   "source": [
    "for triples in h:\n",
    "    print(triples)"
   ]
  },
  {
   "cell_type": "code",
   "execution_count": 22,
   "metadata": {},
   "outputs": [
    {
     "name": "stdout",
     "output_type": "stream",
     "text": [
      "(rdflib.term.URIRef('http://example.org/Subject2'), rdflib.term.URIRef('httlp://example.orgpredicate2'), rdflib.term.Literal('object2', lang='en'))\n",
      "(rdflib.term.URIRef('http://example.org/Subject1'), rdflib.term.URIRef('httlp://example.orgpredicate1'), rdflib.term.Literal('object1', lang='en'))\n"
     ]
    }
   ],
   "source": [
    "data="
   ]
  },
  {
   "cell_type": "markdown",
   "metadata": {},
   "source": [
    "for triples in h:\n"
   ]
  }
 ],
 "metadata": {
  "kernelspec": {
   "display_name": "Python 3",
   "language": "python",
   "name": "python3"
  },
  "language_info": {
   "codemirror_mode": {
    "name": "ipython",
    "version": 3
   },
   "file_extension": ".py",
   "mimetype": "text/x-python",
   "name": "python",
   "nbconvert_exporter": "python",
   "pygments_lexer": "ipython3",
   "version": "3.12.6"
  }
 },
 "nbformat": 4,
 "nbformat_minor": 2
}
