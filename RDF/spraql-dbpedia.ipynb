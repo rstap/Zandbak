{
 "cells": [
  {
   "cell_type": "code",
   "execution_count": 1,
   "metadata": {},
   "outputs": [
    {
     "name": "stdout",
     "output_type": "stream",
     "text": [
      "Requirement already satisfied: rdflib in c:\\users\\roels\\appdata\\local\\programs\\python\\python312\\lib\\site-packages (7.0.0)\n",
      "Requirement already satisfied: isodate<0.7.0,>=0.6.0 in c:\\users\\roels\\appdata\\local\\programs\\python\\python312\\lib\\site-packages (from rdflib) (0.6.1)\n",
      "Requirement already satisfied: pyparsing<4,>=2.1.0 in c:\\users\\roels\\appdata\\local\\programs\\python\\python312\\lib\\site-packages (from rdflib) (3.1.4)\n",
      "Requirement already satisfied: six in c:\\users\\roels\\appdata\\local\\programs\\python\\python312\\lib\\site-packages (from isodate<0.7.0,>=0.6.0->rdflib) (1.16.0)\n",
      "Note: you may need to restart the kernel to use updated packages.\n",
      "Collecting SPARQLWrapperNote: you may need to restart the kernel to use updated packages.\n",
      "\n",
      "  Downloading SPARQLWrapper-2.0.0-py3-none-any.whl.metadata (2.0 kB)\n",
      "Requirement already satisfied: rdflib>=6.1.1 in c:\\users\\roels\\appdata\\local\\programs\\python\\python312\\lib\\site-packages (from SPARQLWrapper) (7.0.0)\n",
      "Requirement already satisfied: isodate<0.7.0,>=0.6.0 in c:\\users\\roels\\appdata\\local\\programs\\python\\python312\\lib\\site-packages (from rdflib>=6.1.1->SPARQLWrapper) (0.6.1)\n",
      "Requirement already satisfied: pyparsing<4,>=2.1.0 in c:\\users\\roels\\appdata\\local\\programs\\python\\python312\\lib\\site-packages (from rdflib>=6.1.1->SPARQLWrapper) (3.1.4)\n",
      "Requirement already satisfied: six in c:\\users\\roels\\appdata\\local\\programs\\python\\python312\\lib\\site-packages (from isodate<0.7.0,>=0.6.0->rdflib>=6.1.1->SPARQLWrapper) (1.16.0)\n",
      "Downloading SPARQLWrapper-2.0.0-py3-none-any.whl (28 kB)\n",
      "Installing collected packages: SPARQLWrapper\n",
      "Successfully installed SPARQLWrapper-2.0.0\n"
     ]
    }
   ],
   "source": [
    "%pip install rdflib\n",
    "%pip install SPARQLWrapper"
   ]
  },
  {
   "cell_type": "code",
   "execution_count": 1,
   "metadata": {},
   "outputs": [],
   "source": [
    "from rdflib import Graph\n",
    "from SPARQLWrapper import SPARQLWrapper, JSON, N3\n",
    "from pprint import pprint \n"
   ]
  },
  {
   "cell_type": "code",
   "execution_count": null,
   "metadata": {},
   "outputs": [],
   "source": [
    "sparql = SPARQLWrapper('https://dbpedia.org/sparql')\n",
    "sparql.setQuery('''\n",
    "    SELECT ?object\n",
    "    # WHERE { dbr:Barack_Obama rdfs:label ?object .}\n",
    "    WHERE { dbr:Barack_Obama dbo:abstract ?object .}\n",
    "''')\n",
    "sparql.setReturnFormat(JSON)\n",
    "qres = sparql.query().convert()\n",
    "\n",
    "# pprint(qres)\n",
    "for result in qres['results']['bindings']:\n",
    "    # print(result['object'])\n",
    "\n",
    "    lang, value = result['object']['xml:lang'], result['object']['value']\n",
    "    print(f'lang: {lang}\\tValue: {value}')\n"
   ]
  },
  {
   "cell_type": "code",
   "execution_count": null,
   "metadata": {},
   "outputs": [],
   "source": [
    "sparql = SPARQLWrapper('https://dbpedia.org/sparql')\n",
    "sparql.setQuery('''\n",
    "    CONSTRUCT { dbc:Machine_learning skos:broader ?parent .\n",
    "                dbc:Machine_learnng skos:narrower ?child .}\n",
    "    WHERE {\n",
    "        { dbc:Machinelearning skos:broader ?parent . }\n",
    "    UNION\n",
    "        { ?child skos:broader dbc:Machine_learning . }\n",
    "}''')\n",
    "\n",
    "sparql.setReturnFormat(N3)\n",
    "qres = sparql.query().convert()\n",
    "\n",
    "g = Graph()\n",
    "g.parse(data=qres, format='n3')\n",
    "print(g.serialize(format='ttl'))\n"
   ]
  },
  {
   "cell_type": "code",
   "execution_count": 19,
   "metadata": {},
   "outputs": [
    {
     "name": "stdout",
     "output_type": "stream",
     "text": [
      "##############################################\n",
      "{'head': {'link': [], 'vars': ['name', 'comment', 'image']},\n",
      " 'results': {'bindings': [], 'distinct': False, 'ordered': True}}\n"
     ]
    },
    {
     "ename": "IndexError",
     "evalue": "list index out of range",
     "output_type": "error",
     "traceback": [
      "\u001b[1;31m---------------------------------------------------------------------------\u001b[0m",
      "\u001b[1;31mIndexError\u001b[0m                                Traceback (most recent call last)",
      "Cell \u001b[1;32mIn[19], line 21\u001b[0m\n\u001b[0;32m     18\u001b[0m qres \u001b[38;5;241m=\u001b[39m sparql\u001b[38;5;241m.\u001b[39mquery()\u001b[38;5;241m.\u001b[39mconvert()\n\u001b[0;32m     19\u001b[0m pprint(qres)\n\u001b[1;32m---> 21\u001b[0m result \u001b[38;5;241m=\u001b[39m \u001b[43mqres\u001b[49m\u001b[43m[\u001b[49m\u001b[38;5;124;43m'\u001b[39;49m\u001b[38;5;124;43mresults\u001b[39;49m\u001b[38;5;124;43m'\u001b[39;49m\u001b[43m]\u001b[49m\u001b[43m[\u001b[49m\u001b[38;5;124;43m'\u001b[39;49m\u001b[38;5;124;43mbindings\u001b[39;49m\u001b[38;5;124;43m'\u001b[39;49m\u001b[43m]\u001b[49m\u001b[43m[\u001b[49m\u001b[38;5;241;43m0\u001b[39;49m\u001b[43m]\u001b[49m\n\u001b[0;32m     22\u001b[0m name, comment, image_url \u001b[38;5;241m=\u001b[39m result[\u001b[38;5;124m'\u001b[39m\u001b[38;5;124mname\u001b[39m\u001b[38;5;124m'\u001b[39m][\u001b[38;5;124m'\u001b[39m\u001b[38;5;124mvalue\u001b[39m\u001b[38;5;124m'\u001b[39m], result[\u001b[38;5;124m'\u001b[39m\u001b[38;5;124mcomment\u001b[39m\u001b[38;5;124m'\u001b[39m][\u001b[38;5;124m'\u001b[39m\u001b[38;5;124mvalue\u001b[39m\u001b[38;5;124m'\u001b[39m], result[\u001b[38;5;124m'\u001b[39m\u001b[38;5;124mimage\u001b[39m\u001b[38;5;124m'\u001b[39m][\u001b[38;5;124m'\u001b[39m\u001b[38;5;124mvalue\u001b[39m\u001b[38;5;124m'\u001b[39m]\n\u001b[0;32m     24\u001b[0m \u001b[38;5;28mprint\u001b[39m(name)\n",
      "\u001b[1;31mIndexError\u001b[0m: list index out of range"
     ]
    }
   ],
   "source": [
    "sparql = SPARQLWrapper('https://dbpedia.org/sparql')\n",
    "instruments = ['Nadaswaram', 'Trombone', 'Air_horn', 'Kazoo', 'Mandolin', 'Clavichord', 'Kaval', 'Electronic_keyboard']\n",
    "\n",
    "for instrument in instruments:\n",
    "    print('##############################################')\n",
    "    sparql.setQuery(f'''\n",
    "        SELECT ?name ?comment ?image\n",
    "        WHERE {{\n",
    "            dbr:{instrument} rdfs:label ?name .\n",
    "            dbr:{instrument} rdfs:comment ?comment .\n",
    "            dbr:{instrument} dbo:thubnail ?image .\n",
    "\n",
    "        FILTER (lang(?name) = 'en')\n",
    "        FILTER (lang(?comment) = 'en')\n",
    "        }}''' )\n",
    "    \n",
    "    sparql.setReturnFormat(JSON)\n",
    "    qres = sparql.query().convert()\n",
    "    pprint(qres)\n",
    "\n",
    "    result = qres['results']['bindings'][0]\n",
    "    name, comment, image_url = result['name']['value'], result['comment']['value'], result['image']['value']\n",
    "\n",
    "    print(name)\n",
    "    # response = request.get(image_url)\n",
    "    # display(Image.open(BytesIO(response.content)))\n",
    "    # print(f'{comment}....')\n",
    "\n"
   ]
  }
 ],
 "metadata": {
  "kernelspec": {
   "display_name": "Python 3",
   "language": "python",
   "name": "python3"
  },
  "language_info": {
   "codemirror_mode": {
    "name": "ipython",
    "version": 3
   },
   "file_extension": ".py",
   "mimetype": "text/x-python",
   "name": "python",
   "nbconvert_exporter": "python",
   "pygments_lexer": "ipython3",
   "version": "3.12.6"
  }
 },
 "nbformat": 4,
 "nbformat_minor": 2
}
