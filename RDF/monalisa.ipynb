{
 "cells": [
  {
   "cell_type": "code",
   "execution_count": 1,
   "metadata": {},
   "outputs": [
    {
     "name": "stdout",
     "output_type": "stream",
     "text": [
      "Requirement already satisfied: RDFLib in c:\\users\\roels\\appdata\\local\\programs\\python\\python312\\lib\\site-packages (7.0.0)\n",
      "Requirement already satisfied: isodate<0.7.0,>=0.6.0 in c:\\users\\roels\\appdata\\local\\programs\\python\\python312\\lib\\site-packages (from RDFLib) (0.6.1)\n",
      "Requirement already satisfied: pyparsing<4,>=2.1.0 in c:\\users\\roels\\appdata\\local\\programs\\python\\python312\\lib\\site-packages (from RDFLib) (3.1.4)\n",
      "Requirement already satisfied: six in c:\\users\\roels\\appdata\\local\\programs\\python\\python312\\lib\\site-packages (from isodate<0.7.0,>=0.6.0->RDFLib) (1.16.0)\n"
     ]
    }
   ],
   "source": [
    "%pip install RDFLib"
   ]
  },
  {
   "cell_type": "code",
   "execution_count": 25,
   "metadata": {},
   "outputs": [],
   "source": [
    "from rdflib import URIRef, BNode, Literal, Namespace\n",
    "from rdflib.namespace import FOAF, DCTERMS, XSD, RDF, SDO\n",
    "\n",
    "\n",
    "mona_lisa = URIRef('http://www.wikidata.org/entity/Q12418')\n",
    "davinci = URIRef('http://dbpedia.org/resource/leonardo_da_Vinci')\n",
    "lajoconde = URIRef('http://data.europeana.eu/item/04802/04802/243FA8618938F4117025F17A8B813C5F9AA4D619')\n",
    "\n",
    "EX = Namespace('http://example.org')\n",
    "bob = EX['Bob']\n",
    "alice =EX['Alice']\n",
    "\n",
    "birth_data = Literal(\"1990-07-04\", datatype=XSD['date'])\n",
    "title = Literal('Mona Lisa', lang='en')\n"
   ]
  },
  {
   "cell_type": "code",
   "execution_count": 26,
   "metadata": {},
   "outputs": [
    {
     "data": {
      "text/plain": [
       "'Mona Lisa'"
      ]
     },
     "execution_count": 26,
     "metadata": {},
     "output_type": "execute_result"
    }
   ],
   "source": [
    "title.value"
   ]
  },
  {
   "cell_type": "code",
   "execution_count": 27,
   "metadata": {},
   "outputs": [
    {
     "data": {
      "text/plain": [
       "<Graph identifier=N0647c30337a642119e66f039d1440377 (<class 'rdflib.graph.Graph'>)>"
      ]
     },
     "execution_count": 27,
     "metadata": {},
     "output_type": "execute_result"
    }
   ],
   "source": [
    "from rdflib import Graph\n",
    "# bind prefix in namespace\n",
    "g.bind('ex', EX)\n",
    "g.bind('foaf', FOAF)\n",
    "g.bind('schema', SDO)\n",
    "g.bind('dcterms', DCTERMS)\n",
    "\n",
    "g=Graph()\n",
    "\n",
    "g.add((bob, RDF.type, FOAF.Person))\n",
    "g.add((bob, FOAF.knows, alice))\n",
    "g.add((bob, FOAF['topic_interest'], mona_lisa))\n",
    "g.add((bob, SDO['birthDate'], birth_data))\n",
    "g.add((mona_lisa, DCTERMS['creator'], davinci))\n",
    "g.add((mona_lisa, DCTERMS['title'], title))\n",
    "g.add((lajoconde, DCTERMS['subject'], mona_lisa))\n"
   ]
  },
  {
   "cell_type": "code",
   "execution_count": null,
   "metadata": {},
   "outputs": [],
   "source": [
    "print(g.serialize(format='ttl'))"
   ]
  },
  {
   "cell_type": "code",
   "execution_count": 29,
   "metadata": {},
   "outputs": [],
   "source": [
    "# bind prefix in namespace\n",
    "g.bind('ex', EX)\n",
    "g.bind('foaf', FOAF)\n",
    "g.bind('schema', SDO)\n",
    "g.bind('dcterms', DCTERMS)"
   ]
  },
  {
   "cell_type": "code",
   "execution_count": null,
   "metadata": {},
   "outputs": [],
   "source": [
    "for prefix, ns in g.namespaces():\n",
    "    print(prefix, ns)"
   ]
  },
  {
   "cell_type": "code",
   "execution_count": 31,
   "metadata": {},
   "outputs": [
    {
     "data": {
      "text/plain": [
       "<Graph identifier=N0647c30337a642119e66f039d1440377 (<class 'rdflib.graph.Graph'>)>"
      ]
     },
     "execution_count": 31,
     "metadata": {},
     "output_type": "execute_result"
    }
   ],
   "source": [
    "# replace Literal value\n",
    "g.set((bob, SDO['birthDate'], Literal('1990-01-01', datatype=XSD.date)))\n",
    "g.set((alice, DCTERMS['title'], Literal('La Joconde', lang='fr')))"
   ]
  },
  {
   "cell_type": "code",
   "execution_count": null,
   "metadata": {},
   "outputs": [],
   "source": [
    "print(g.serialize(format='ttl'))"
   ]
  },
  {
   "cell_type": "code",
   "execution_count": 33,
   "metadata": {},
   "outputs": [
    {
     "data": {
      "text/plain": [
       "<Graph identifier=N0647c30337a642119e66f039d1440377 (<class 'rdflib.graph.Graph'>)>"
      ]
     },
     "execution_count": 33,
     "metadata": {},
     "output_type": "execute_result"
    }
   ],
   "source": [
    "# remove triples from graph\n",
    "# g.remove((mona_lisa, None, None))\n",
    "g.remove((lajoconde, None, None))"
   ]
  },
  {
   "cell_type": "code",
   "execution_count": 34,
   "metadata": {},
   "outputs": [
    {
     "name": "stdout",
     "output_type": "stream",
     "text": [
      "@prefix dcterms: <http://purl.org/dc/terms/> .\n",
      "@prefix ex: <http://example.org> .\n",
      "@prefix foaf: <http://xmlns.com/foaf/0.1/> .\n",
      "@prefix schema: <https://schema.org/> .\n",
      "@prefix xsd: <http://www.w3.org/2001/XMLSchema#> .\n",
      "\n",
      "ex:Bob a foaf:Person ;\n",
      "    foaf:knows ex:Alice ;\n",
      "    foaf:topic_interest <http://www.wikidata.org/entity/Q12418> ;\n",
      "    schema:birthDate \"1990-01-01\"^^xsd:date .\n",
      "\n",
      "ex:Alice dcterms:title \"La Joconde\"@fr .\n",
      "\n",
      "<http://www.wikidata.org/entity/Q12418> dcterms:creator <http://dbpedia.org/resource/leonardo_da_Vinci> ;\n",
      "    dcterms:title \"Mona Lisa\"@en .\n",
      "\n",
      "\n"
     ]
    }
   ],
   "source": [
    "print(g.serialize(format='ttl'))"
   ]
  }
 ],
 "metadata": {
  "kernelspec": {
   "display_name": "Python 3",
   "language": "python",
   "name": "python3"
  },
  "language_info": {
   "codemirror_mode": {
    "name": "ipython",
    "version": 3
   },
   "file_extension": ".py",
   "mimetype": "text/x-python",
   "name": "python",
   "nbconvert_exporter": "python",
   "pygments_lexer": "ipython3",
   "version": "3.12.6"
  }
 },
 "nbformat": 4,
 "nbformat_minor": 2
}
